{
 "cells": [
  {
   "cell_type": "code",
   "execution_count": 40,
   "id": "24c7e7f8",
   "metadata": {},
   "outputs": [],
   "source": [
    "import cv2\n",
    "import numpy as np"
   ]
  },
  {
   "cell_type": "code",
   "execution_count": 46,
   "id": "89caea17",
   "metadata": {},
   "outputs": [],
   "source": [
    "def img_to_rgb1(vv_image, vh_image):\n",
    "    r = np.nan_to_num(vh_image/vv_image, 0)\n",
    "    r = np.clip(r, 0, 1)\n",
    "    r = 1 - r\n",
    "    rgb_image = np.zeros((256, 256, 3))\n",
    "    rgb_image[:, :, 0] = vv_image  # Red \n",
    "    rgb_image[:, :, 1] = vh_image  # Green \n",
    "    rgb_image[:, :, 2] = r  # Blue\n",
    "    return rgb_image"
   ]
  },
  {
   "cell_type": "code",
   "execution_count": 47,
   "id": "727afafc",
   "metadata": {},
   "outputs": [],
   "source": [
    "def img_to_rgb2(vv_image, vh_image):\n",
    "    rgb_image = np.zeros((256, 256, 3))\n",
    "    rgb_image[:, :, 0] = vv_image  # Red \n",
    "    rgb_image[:, :, 1] = vh_image  # Green \n",
    "    rgb_image[:, :, 2] = 1 - (vv_image**2 + vh_image**2)**0.5  # Blue\n",
    "    return rgb_image"
   ]
  },
  {
   "cell_type": "code",
   "execution_count": 48,
   "id": "22ea5e4d",
   "metadata": {},
   "outputs": [
    {
     "data": {
      "text/plain": [
       "'D:\\\\SOUI\\\\train_features\\\\train_features'"
      ]
     },
     "execution_count": 48,
     "metadata": {},
     "output_type": "execute_result"
    }
   ],
   "source": [
    "import os \n",
    "os.getcwd()"
   ]
  },
  {
   "cell_type": "code",
   "execution_count": 49,
   "id": "4134121e",
   "metadata": {},
   "outputs": [],
   "source": [
    "# Randomly selected imgs\n",
    "vv_image = cv2.imread(\"bangladesh_20170314t115609_x-2_y-32_vv.png\", 0) / 255.0\n",
    "vh_image = cv2.imread(\"bangladesh_20170314t115609_x-2_y-32_vh.png\", 0) / 255.0"
   ]
  },
  {
   "cell_type": "code",
   "execution_count": 50,
   "id": "feb47c72",
   "metadata": {},
   "outputs": [
    {
     "name": "stderr",
     "output_type": "stream",
     "text": [
      "C:\\Users\\ADMIN\\AppData\\Local\\Temp\\ipykernel_21140\\986455190.py:2: RuntimeWarning: divide by zero encountered in divide\n",
      "  r = np.nan_to_num(vh_image/vv_image, 0)\n",
      "C:\\Users\\ADMIN\\AppData\\Local\\Temp\\ipykernel_21140\\986455190.py:2: RuntimeWarning: invalid value encountered in divide\n",
      "  r = np.nan_to_num(vh_image/vv_image, 0)\n"
     ]
    }
   ],
   "source": [
    "rgx_image = img_to_rgb1(vv_image, vh_image)\n",
    "cv2.imshow('image1',rgb_image)\n",
    "cv2.waitKey(0)\n",
    "cv2.destroyAllWindows()"
   ]
  },
  {
   "cell_type": "code",
   "execution_count": 53,
   "id": "418e5d2d",
   "metadata": {},
   "outputs": [],
   "source": [
    "rgb_image2 = img_to_rgb2(vv_image, vh_image)\n",
    "cv2.imshow('image2',rgb_image2)\n",
    "cv2.waitKey(0)\n",
    "cv2.destroyAllWindows()"
   ]
  },
  {
   "cell_type": "code",
   "execution_count": 1,
   "id": "8d9153b0",
   "metadata": {},
   "outputs": [],
   "source": [
    "def out(flood_image, water_image):\n",
    "    water_image = np.logical_not(water_image).astype(int) \n",
    "    c = np.logical_and(flood_image, water_image)\n",
    "    c = c.astype(int)\n",
    "    c = c.astype(np.uint8)\n",
    "    return c"
   ]
  },
  {
   "cell_type": "code",
   "execution_count": null,
   "id": "c4343ae6",
   "metadata": {},
   "outputs": [],
   "source": []
  }
 ],
 "metadata": {
  "kernelspec": {
   "display_name": "Python 3 (ipykernel)",
   "language": "python",
   "name": "python3"
  },
  "language_info": {
   "codemirror_mode": {
    "name": "ipython",
    "version": 3
   },
   "file_extension": ".py",
   "mimetype": "text/x-python",
   "name": "python",
   "nbconvert_exporter": "python",
   "pygments_lexer": "ipython3",
   "version": "3.11.3"
  }
 },
 "nbformat": 4,
 "nbformat_minor": 5
}
